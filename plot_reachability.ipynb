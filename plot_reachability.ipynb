{
 "cells": [
  {
   "cell_type": "code",
   "execution_count": 3,
   "id": "initial_id",
   "metadata": {
    "collapsed": true,
    "ExecuteTime": {
     "end_time": "2024-04-02T18:38:17.818526Z",
     "start_time": "2024-04-02T18:38:16.816224Z"
    }
   },
   "outputs": [],
   "source": [
    "import torch\n",
    "import torch.nn as nn\n",
    "import matplotlib.pyplot as plt\n",
    "import polytope\n",
    "import numpy as np\n",
    "from interval import interval, imath\n",
    "from scipy.interpolate import interp1d"
   ]
  },
  {
   "cell_type": "code",
   "outputs": [
    {
     "data": {
      "text/plain": "2"
     },
     "execution_count": 4,
     "metadata": {},
     "output_type": "execute_result"
    }
   ],
   "source": [
    "# Take a random network\n",
    "# Simple example, 2 feature in 1 feature out\n",
    "# The internal layers do not matter for now, except for the activation functions\n",
    "net = nn.Sequential(\n",
    "    nn.Linear(in_features=2, out_features=10, bias=True),\n",
    "    nn.ReLU(),\n",
    "    nn.Linear(in_features=10, out_features=4, bias=True),\n",
    "    nn.Sigmoid()\n",
    ")\n",
    "\n",
    "input_features = net[0].weight.shape[1]\n",
    "\n",
    "input_size = net[0].weight.shape[0]\n",
    "\n",
    "input_features"
   ],
   "metadata": {
    "collapsed": false,
    "ExecuteTime": {
     "end_time": "2024-04-02T18:38:17.833010Z",
     "start_time": "2024-04-02T18:38:17.822447Z"
    }
   },
   "id": "d4a810c9854d1ce7",
   "execution_count": 4
  },
  {
   "cell_type": "code",
   "outputs": [],
   "source": [
    "# Select the sampling region for the inputs and sampling interval\n",
    "samples = 100\n",
    "\n",
    "#set the seed for reproducibility\n",
    "torch.random.manual_seed(100)\n",
    "\n",
    "# Per feature uniform sampling\n",
    "feat_1 = torch.distributions.uniform.Uniform(-3,3).sample([samples])\n",
    "feat_2 = torch.distributions.uniform.Uniform(-3,3).sample([samples])\n",
    "\n",
    "# Combine the features\n",
    "feat = torch.stack([feat_1, feat_2],1)\n"
   ],
   "metadata": {
    "collapsed": false,
    "ExecuteTime": {
     "end_time": "2024-04-02T18:48:01.393830Z",
     "start_time": "2024-04-02T18:48:01.387640Z"
    }
   },
   "id": "7f7a517e208a4e45",
   "execution_count": 56
  },
  {
   "cell_type": "code",
   "outputs": [],
   "source": [
    "# Evaluate the network in the sampled points\n",
    "sample_output = net(feat)\n",
    "poly_points = sample_output.detach().numpy()\n",
    "\n",
    "poly_points_class_0 = np.reshape(poly_points[:,0], (samples, 1))\n",
    "poly_points_class_1 = np.reshape(poly_points[:,1], (samples, 1))\n",
    "poly_points_class_2 = np.reshape(poly_points[:,2], (samples, 1))\n",
    "poly_points_class_3 = np.reshape(poly_points[:,3], (samples, 1))\n"
   ],
   "metadata": {
    "collapsed": false,
    "ExecuteTime": {
     "end_time": "2024-04-02T18:48:02.989108Z",
     "start_time": "2024-04-02T18:48:02.986349Z"
    }
   },
   "id": "54753052f2a146fd",
   "execution_count": 57
  },
  {
   "cell_type": "code",
   "outputs": [],
   "source": [
    "# Create the polytope from the points\n",
    "# this is the reachability set\n",
    "poly0 = polytope.qhull(poly_points_class_0)\n",
    "poly1 = polytope.qhull(poly_points_class_1)\n",
    "poly2 = polytope.qhull(poly_points_class_2)\n",
    "poly3 = polytope.qhull(poly_points_class_3)\n",
    "\n"
   ],
   "metadata": {
    "collapsed": false,
    "ExecuteTime": {
     "end_time": "2024-04-02T18:57:52.340095Z",
     "start_time": "2024-04-02T18:57:52.266326Z"
    }
   },
   "id": "e1ebc00bd39a0766",
   "execution_count": 76
  },
  {
   "cell_type": "code",
   "outputs": [
    {
     "data": {
      "text/plain": "([<matplotlib.axis.YTick at 0x31048a6d0>,\n  <matplotlib.axis.YTick at 0x31048a070>,\n  <matplotlib.axis.YTick at 0x310473580>,\n  <matplotlib.axis.YTick at 0x3104bbaf0>],\n [Text(0, 0, '0'), Text(0, 1, '1'), Text(0, 2, '2'), Text(0, 3, '3')])"
     },
     "execution_count": 75,
     "metadata": {},
     "output_type": "execute_result"
    },
    {
     "data": {
      "text/plain": "<Figure size 640x480 with 1 Axes>",
      "image/png": "[encoded data removed]"
     },
     "metadata": {},
     "output_type": "display_data"
    }
   ],
   "source": [
    "e0 = polytope.extreme(poly0)\n",
    "e1 = polytope.extreme(poly1)\n",
    "\n",
    "p0 = np.hstack( (np.zeros((len(poly_points_class_0), 1)), poly_points_class_0))\n",
    "p1 = np.hstack( (np.ones((len(poly_points_class_1), 1)), poly_points_class_1))\n",
    "p2 = np.hstack( (2*np.ones((len(poly_points_class_2), 1)), poly_points_class_2))\n",
    "p3 = np.hstack( (3*np.ones((len(poly_points_class_3), 1)), poly_points_class_3))\n",
    "\n",
    "plt.scatter(p0[:,1], p0[:,0], s=10, marker=\"+\")\n",
    "plt.scatter(p1[:,1], p1[:,0], s=10, marker=\"+\")\n",
    "plt.scatter(p2[:,1], p2[:,0], s=10, marker=\"+\")\n",
    "plt.scatter(p3[:,1], p3[:,0], s=10, marker=\"+\")\n",
    "\n",
    "plt.yticks([0,1,2,3])"
   ],
   "metadata": {
    "collapsed": false,
    "ExecuteTime": {
     "end_time": "2024-04-02T18:57:21.702126Z",
     "start_time": "2024-04-02T18:57:21.565569Z"
    }
   },
   "id": "1365268de17dac9b",
   "execution_count": 75
  },
  {
   "cell_type": "code",
   "outputs": [
    {
     "data": {
      "text/plain": "''"
     },
     "execution_count": 74,
     "metadata": {},
     "output_type": "execute_result"
    }
   ],
   "source": [
    "# Print the equations for PVS\n",
    "# A x <= b\n",
    "A = []\n",
    "b = []\n",
    "\n",
    "eq_buff = []\n",
    "for i,b in enumerate(b):\n",
    "    str_buff = []\n",
    "    for j,a in enumerate(A[i]):\n",
    "        str_buff.append(str(a)+\"*x\"+str(j))\n",
    "    eq_buff.append(\"+\".join(str_buff)+ \"<=\" + str(b))\n",
    "\n",
    "and_string = \" AND \".join(eq_buff)\n",
    "\n",
    "and_string"
   ],
   "metadata": {
    "collapsed": false,
    "ExecuteTime": {
     "end_time": "2024-04-02T18:57:09.120003Z",
     "start_time": "2024-04-02T18:57:09.117196Z"
    }
   },
   "id": "a732082646133e05",
   "execution_count": 74
  },
  {
   "cell_type": "code",
   "outputs": [],
   "source": [
    "import interval_tensor\n",
    "from interval_tensor import IntervalTensor\n",
    "\n",
    "def extract_output_tensor(interval_tensor):\n",
    "    idata = interval_tensor.data()\n",
    "    out_data = [0] * len(idata)\n",
    "    for l_, i_ in enumerate(idata):\n",
    "        feat_ = np.array(i_[0]).reshape(2, 1)\n",
    "        label_ = (np.ones(2) * l_).reshape(2, 1)\n",
    "        stacked = np.hstack((label_, feat_))\n",
    "        out_data[l_] = stacked\n",
    "    return out_data"
   ],
   "metadata": {
    "collapsed": false,
    "ExecuteTime": {
     "end_time": "2024-04-02T18:44:37.746875Z",
     "start_time": "2024-04-02T18:44:37.742250Z"
    }
   },
   "id": "d58ac605c4269c72",
   "execution_count": 37
  },
  {
   "cell_type": "code",
   "outputs": [],
   "source": [
    "intervals = np.array([[-3,3],[-3,3]], dtype=object)\n",
    "i = IntervalTensor(intervals)\n",
    "o =  net(i)\n",
    "bounds=extract_output_tensor(o)\n",
    "bb=np.array(bounds).reshape(8,2)"
   ],
   "metadata": {
    "collapsed": false,
    "ExecuteTime": {
     "end_time": "2024-04-02T18:56:43.643974Z",
     "start_time": "2024-04-02T18:56:43.625043Z"
    }
   },
   "id": "e45c36f7e1e339f8",
   "execution_count": 72
  },
  {
   "cell_type": "code",
   "outputs": [
    {
     "data": {
      "text/plain": "<Figure size 640x480 with 1 Axes>",
      "image/png": "[encoded data removed]"
     },
     "metadata": {},
     "output_type": "display_data"
    }
   ],
   "source": [
    "plt.scatter(p0[:,1], p0[:,0], s=10, marker=\"+\")\n",
    "plt.scatter(p1[:,1], p1[:,0], s=10, marker=\"+\")\n",
    "plt.scatter(p2[:,1], p2[:,0], s=10, marker=\"+\")\n",
    "plt.scatter(p3[:,1], p3[:,0], s=10, marker=\"+\")\n",
    "plt.scatter(bb[:,1], bb[:,0], color=\"green\", marker=\"+\");\n",
    "plt.ylabel(\"Label\")\n",
    "plt.xlabel(\"Score\")\n",
    "plt.yticks(bb[:,0]);"
   ],
   "metadata": {
    "collapsed": false,
    "ExecuteTime": {
     "end_time": "2024-04-02T18:56:46.612223Z",
     "start_time": "2024-04-02T18:56:46.520205Z"
    }
   },
   "id": "a3bae49de4bbc12d",
   "execution_count": 73
  },
  {
   "cell_type": "code",
   "outputs": [],
   "source": [],
   "metadata": {
    "collapsed": false
   },
   "id": "13fa8c91b87d40f3"
  }
 ],
 "metadata": {
  "kernelspec": {
   "display_name": "Python 3",
   "language": "python",
   "name": "python3"
  },
  "language_info": {
   "codemirror_mode": {
    "name": "ipython",
    "version": 2
   },
   "file_extension": ".py",
   "mimetype": "text/x-python",
   "name": "python",
   "nbconvert_exporter": "python",
   "pygments_lexer": "ipython2",
   "version": "2.7.6"
  }
 },
 "nbformat": 4,
 "nbformat_minor": 5
}
