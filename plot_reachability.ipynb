{
 "cells": [
  {
   "cell_type": "code",
   "execution_count": 1,
   "id": "initial_id",
   "metadata": {
    "collapsed": true,
    "ExecuteTime": {
     "end_time": "2024-04-02T17:44:57.603495Z",
     "start_time": "2024-04-02T17:44:55.772954Z"
    }
   },
   "outputs": [],
   "source": [
    "import torch\n",
    "import torch.nn as nn\n",
    "import matplotlib.pyplot as plt\n",
    "import polytope\n",
    "import numpy as np\n",
    "from interval import interval, imath\n",
    "from scipy.interpolate import interp1d"
   ]
  },
  {
   "cell_type": "code",
   "outputs": [
    {
     "data": {
      "text/plain": "2"
     },
     "execution_count": 173,
     "metadata": {},
     "output_type": "execute_result"
    }
   ],
   "source": [
    "# Take a random network\n",
    "# Simple example, 2 feature in 1 feature out\n",
    "# The internal layers do not matter for now, except for the activation functions\n",
    "net = nn.Sequential(\n",
    "    nn.Linear(in_features=2, out_features=10, bias=True),\n",
    "    nn.ReLU(),\n",
    "    nn.Linear(in_features=10, out_features=4, bias=True),\n",
    "    nn.Sigmoid()\n",
    ")\n",
    "\n",
    "input_features = net[0].weight.shape[1]\n",
    "\n",
    "input_size = net[0].weight.shape[0]\n",
    "\n",
    "input_features"
   ],
   "metadata": {
    "collapsed": false,
    "ExecuteTime": {
     "end_time": "2024-04-02T18:10:50.596586Z",
     "start_time": "2024-04-02T18:10:50.587385Z"
    }
   },
   "id": "d4a810c9854d1ce7",
   "execution_count": 173
  },
  {
   "cell_type": "code",
   "outputs": [],
   "source": [
    "# Select the sampling region for the inputs and sampling interval\n",
    "samples = 10000\n",
    "\n",
    "#set the seed for reproducibility\n",
    "torch.random.manual_seed(100)\n",
    "\n",
    "# Per feature uniform sampling\n",
    "feat_1 = torch.distributions.uniform.Uniform(-1,1).sample([samples])\n",
    "feat_2 = torch.distributions.uniform.Uniform(-1,1).sample([samples])\n",
    "\n",
    "# Combine the features\n",
    "feat = torch.stack([feat_1, feat_2],1)\n"
   ],
   "metadata": {
    "collapsed": false,
    "ExecuteTime": {
     "end_time": "2024-04-02T18:10:52.172212Z",
     "start_time": "2024-04-02T18:10:52.152480Z"
    }
   },
   "id": "7f7a517e208a4e45",
   "execution_count": 174
  },
  {
   "cell_type": "code",
   "outputs": [],
   "source": [
    "# Evaluate the network in the sampled points\n",
    "sample_output = net(feat)\n",
    "poly_points = sample_output.detach().numpy()\n",
    "\n",
    "poly_points_class_0 = np.reshape(poly_points[:,0], (samples, 1))\n",
    "poly_points_class_1 = np.reshape(poly_points[:,1], (samples, 1))"
   ],
   "metadata": {
    "collapsed": false,
    "ExecuteTime": {
     "end_time": "2024-04-02T18:10:59.635160Z",
     "start_time": "2024-04-02T18:10:59.623576Z"
    }
   },
   "id": "54753052f2a146fd",
   "execution_count": 175
  },
  {
   "cell_type": "code",
   "outputs": [],
   "source": [
    "# Create the polytope from the points\n",
    "# this is the reachability set\n",
    "poly0 = polytope.qhull(poly_points_class_0)\n",
    "poly1 = polytope.qhull(poly_points_class_1)\n",
    "\n"
   ],
   "metadata": {
    "collapsed": false,
    "ExecuteTime": {
     "end_time": "2024-04-02T18:11:04.534301Z",
     "start_time": "2024-04-02T18:11:00.898352Z"
    }
   },
   "id": "e1ebc00bd39a0766",
   "execution_count": 176
  },
  {
   "cell_type": "code",
   "outputs": [
    {
     "data": {
      "text/plain": "(10000, 1)"
     },
     "execution_count": 177,
     "metadata": {},
     "output_type": "execute_result"
    },
    {
     "data": {
      "text/plain": "<Figure size 640x480 with 1 Axes>",
      "image/png": "[encoded data removed]"
     },
     "metadata": {},
     "output_type": "display_data"
    }
   ],
   "source": [
    "e0 = polytope.extreme(poly0)\n",
    "e1 = polytope.extreme(poly1)\n",
    "#tree.plot(color=\"white\")\n",
    "p0 = np.hstack( (np.zeros((len(poly_points_class_0), 1)), poly_points_class_0))\n",
    "p1 = np.hstack( (np.ones((len(poly_points_class_1), 1)), poly_points_class_1))\n",
    "\n",
    "plt.scatter(p0[:,1], p0[:,0])\n",
    "plt.scatter(p1[:,1], p1[:,0])\n",
    "plt.yticks([0,1])\n",
    "\n",
    "poly_points_class_0.shape"
   ],
   "metadata": {
    "collapsed": false,
    "ExecuteTime": {
     "end_time": "2024-04-02T18:11:05.599460Z",
     "start_time": "2024-04-02T18:11:05.500250Z"
    }
   },
   "id": "1365268de17dac9b",
   "execution_count": 177
  },
  {
   "cell_type": "code",
   "outputs": [
    {
     "ename": "NameError",
     "evalue": "name 'tree' is not defined",
     "output_type": "error",
     "traceback": [
      "\u001B[0;31m---------------------------------------------------------------------------\u001B[0m",
      "\u001B[0;31mNameError\u001B[0m                                 Traceback (most recent call last)",
      "Cell \u001B[0;32mIn[8], line 3\u001B[0m\n\u001B[1;32m      1\u001B[0m \u001B[38;5;66;03m# Print the equations for PVS\u001B[39;00m\n\u001B[1;32m      2\u001B[0m \u001B[38;5;66;03m# A x <= b\u001B[39;00m\n\u001B[0;32m----> 3\u001B[0m A \u001B[38;5;241m=\u001B[39m \u001B[43mtree\u001B[49m\u001B[38;5;241m.\u001B[39mA\n\u001B[1;32m      4\u001B[0m b \u001B[38;5;241m=\u001B[39m tree\u001B[38;5;241m.\u001B[39mb\n\u001B[1;32m      6\u001B[0m eq_buff \u001B[38;5;241m=\u001B[39m []\n",
      "\u001B[0;31mNameError\u001B[0m: name 'tree' is not defined"
     ]
    }
   ],
   "source": [
    "# Print the equations for PVS\n",
    "# A x <= b\n",
    "A = tree.A\n",
    "b = tree.b\n",
    "\n",
    "eq_buff = []\n",
    "for i,b in enumerate(b):\n",
    "    str_buff = []\n",
    "    for j,a in enumerate(A[i]):\n",
    "        str_buff.append(str(a)+\"*x\"+str(j))\n",
    "    eq_buff.append(\"+\".join(str_buff)+ \"<=\" + str(b))\n",
    "\n",
    "and_string = \" AND \".join(eq_buff)\n",
    "\n",
    "and_string"
   ],
   "metadata": {
    "collapsed": false,
    "ExecuteTime": {
     "end_time": "2024-04-02T17:21:29.215221Z",
     "start_time": "2024-04-02T17:21:29.169187Z"
    }
   },
   "id": "a732082646133e05",
   "execution_count": 8
  },
  {
   "cell_type": "code",
   "outputs": [],
   "source": [
    "import functools\n",
    "def implements(torch_function):\n",
    "    \"\"\"Register a torch function override for ScalarTensor\"\"\"\n",
    "    def decorator(func):\n",
    "        functools.update_wrapper(func, torch_function)\n",
    "        HANDLED_FUNCTIONS[torch_function] = func\n",
    "        return func\n",
    "    return decorator\n",
    "\n",
    "HANDLED_FUNCTIONS = {}\n",
    "class IntervalTensor(object):\n",
    "    def __init__(self, intervals):\n",
    "        self._value = from_np(intervals)\n",
    "\n",
    "    def __repr__(self):\n",
    "        return \"IntervalTensor(value={})\".format(self._value)\n",
    "    \n",
    "    def data(self):\n",
    "        return self._value\n",
    "    \n",
    "    @classmethod\n",
    "    def __torch_function__(cls, func, types, args=(), kwargs=None):\n",
    "        if kwargs is None:\n",
    "            kwargs = {}\n",
    "        if func not in HANDLED_FUNCTIONS or not all(\n",
    "            issubclass(t, (torch.Tensor, IntervalTensor))\n",
    "            for t in types\n",
    "        ):\n",
    "            return NotImplemented\n",
    "        return HANDLED_FUNCTIONS[func](*args, **kwargs)\n",
    "    \n",
    "@implements(torch.nn.functional.linear)\n",
    "def Linear(input, weight, bias=None):\n",
    "    result = [interval(0)]*len(weight)\n",
    "    rint = IntervalTensor(result)\n",
    "    for h,r in enumerate(weight):\n",
    "        r_accum = interval(0)\n",
    "        for i,c in enumerate(r):\n",
    "            r_accum+=c.item()*input._value[i]\n",
    "        r_accum+=bias[h].item()\n",
    "        result[h] = r_accum\n",
    "    rint._value = result = result;\n",
    "    return rint\n",
    "    \n",
    "\n",
    "@implements(torch.nn.functional.relu)\n",
    "def ReLU(input, inplace=False):\n",
    "    ints = input._value\n",
    "    for i,v in enumerate(ints):\n",
    "        ints[i] = relu_interval(v)\n",
    "    return input\n",
    "\n",
    "@implements(torch.sigmoid)\n",
    "def Sigmoid(input, inplace=False):\n",
    "    ints = input._value\n",
    "    for i,v in enumerate(ints):\n",
    "        ints[i] = sigmoid_interval(v)\n",
    "    return input\n",
    "\n",
    "# Array in the form [[lb0,ub0], [lb1, ub1] ...]\n",
    "def from_np(np_array): \n",
    "    new_arr = []\n",
    "    for pair in np_array:\n",
    "        if len(pair) > 2:\n",
    "            new_arr.append(interval(*pair))\n",
    "        else:\n",
    "            new_arr.append(interval(pair))\n",
    "        \n",
    "    return new_arr\n",
    "\n",
    "def sigmoid_interval(intr):\n",
    "    return 1/(1+imath.exp(-intr))\n",
    "\n",
    "@interval.function\n",
    "def relu_interval(c):\n",
    "    lb = c.inf if c.inf > 0 else 0\n",
    "    ub = c.sup if c.sup > 0 else 0 \n",
    "    return [[lb,ub]]\n",
    "\n",
    "def extract_output_tensor(interval_tensor):\n",
    "    idata = interval_tensor.data()\n",
    "    out_data = [0]*len(idata)\n",
    "    for l_,i_ in enumerate(idata):\n",
    "        feat_ = np.array(i_[0]).reshape(2,1)\n",
    "        label_ = (np.ones(2)*l_).reshape(2,1)\n",
    "        stacked = np.hstack((label_, feat_))\n",
    "        out_data[l_] = stacked\n",
    "    return out_data"
   ],
   "metadata": {
    "collapsed": false,
    "ExecuteTime": {
     "end_time": "2024-04-02T18:11:08.831225Z",
     "start_time": "2024-04-02T18:11:08.826231Z"
    }
   },
   "id": "d58ac605c4269c72",
   "execution_count": 178
  },
  {
   "cell_type": "code",
   "outputs": [
    {
     "data": {
      "text/plain": "array([[0.     , 0.48578],\n       [0.     , 0.75876],\n       [1.     , 0.34723],\n       [1.     , 0.69259],\n       [2.     , 0.37524],\n       [2.     , 0.67848],\n       [3.     , 0.28338],\n       [3.     , 0.57225]])"
     },
     "execution_count": 206,
     "metadata": {},
     "output_type": "execute_result"
    }
   ],
   "source": [
    "intervals = np.array([[-1,1],[-1,1]], dtype=object)\n",
    "i = IntervalTensor(intervals)\n",
    "\n",
    "o =  net(i)\n",
    "\n",
    "o\n",
    "\n",
    "net(torch.tensor([-1.0,-20.0])), o\n",
    "\n",
    "bounds=extract_output_tensor(o)\n",
    "\n",
    "bb=np.array(bounds).reshape(8,2)\n",
    "\n",
    "bb"
   ],
   "metadata": {
    "collapsed": false,
    "ExecuteTime": {
     "end_time": "2024-04-02T18:15:23.973327Z",
     "start_time": "2024-04-02T18:15:23.960684Z"
    }
   },
   "id": "e45c36f7e1e339f8",
   "execution_count": 206
  },
  {
   "cell_type": "code",
   "outputs": [
    {
     "data": {
      "text/plain": "<Figure size 640x480 with 1 Axes>",
      "image/png": "[encoded data removed]"
     },
     "metadata": {},
     "output_type": "display_data"
    }
   ],
   "source": [
    "plt.scatter(p0[:,1], p0[:,0]);\n",
    "plt.scatter(p1[:,1], p1[:,0]);\n",
    "plt.scatter(bb[:,1], bb[:,0]);\n",
    "plt.yticks(bb[:,0]);"
   ],
   "metadata": {
    "collapsed": false,
    "ExecuteTime": {
     "end_time": "2024-04-02T18:15:59.061575Z",
     "start_time": "2024-04-02T18:15:58.976741Z"
    }
   },
   "id": "a3bae49de4bbc12d",
   "execution_count": 211
  },
  {
   "cell_type": "code",
   "outputs": [],
   "source": [],
   "metadata": {
    "collapsed": false
   },
   "id": "13fa8c91b87d40f3"
  }
 ],
 "metadata": {
  "kernelspec": {
   "display_name": "Python 3",
   "language": "python",
   "name": "python3"
  },
  "language_info": {
   "codemirror_mode": {
    "name": "ipython",
    "version": 2
   },
   "file_extension": ".py",
   "mimetype": "text/x-python",
   "name": "python",
   "nbconvert_exporter": "python",
   "pygments_lexer": "ipython2",
   "version": "2.7.6"
  }
 },
 "nbformat": 4,
 "nbformat_minor": 5
}
